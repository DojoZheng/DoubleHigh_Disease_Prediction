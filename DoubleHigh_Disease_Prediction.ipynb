{
 "cells": [
  {
   "cell_type": "markdown",
   "metadata": {},
   "source": [
    "# [美年健康AI大赛 — 双高疾病风险预测](https://tianchi.aliyun.com/competition/information.htm?spm=5176.100067.5678.2.3cb8427c8sY0hU&raceId=231654)"
   ]
  },
  {
   "cell_type": "markdown",
   "metadata": {},
   "source": [
    "## Content\n",
    "\n",
    "<ul>\n",
    "    <li><a href=\"#question_phase\">1. 提出问题</a></li>\n",
    "    <li><a href=\"#wrangling_phase\">2. 数据预处理</a></li>\n",
    "    <li><a href=\"#exploration_phase\">3. 数据探索</a></li>\n",
    "    <li><a href=\"#prediction_phase\">4. 预测分析</a></li>\n",
    "</ul>"
   ]
  },
  {
   "cell_type": "markdown",
   "metadata": {},
   "source": [
    "<a id=\"question_phase\"></a>\n",
    "\n",
    "---\n",
    "\n",
    "## 1. 提出问题\n",
    "\n",
    "\n",
    "通过双高人群的体检数据来预测人群的高血压和高血脂程度，以血压、血脂的具体数值为指标，设计高精度，高效，且解释性强的算法来挑战双高精准预测这一科学难题。"
   ]
  },
  {
   "cell_type": "markdown",
   "metadata": {},
   "source": [
    "<a id=\"wrangling_phase\"></a>\n",
    "\n",
    "---\n",
    "\n",
    "## 2. 数据预处理\n"
   ]
  },
  {
   "cell_type": "markdown",
   "metadata": {},
   "source": [
    "### 2.1 加载数据"
   ]
  },
  {
   "cell_type": "markdown",
   "metadata": {},
   "source": [
    "<a id=\"exploration_phase\"></a>\n",
    "\n",
    "---\n",
    "\n",
    "## 3. 数据探索\n"
   ]
  },
  {
   "cell_type": "markdown",
   "metadata": {},
   "source": [
    "<a id=\"prediction_phase\"></a>\n",
    "\n",
    "---\n",
    "\n",
    "## 4. 预测分析\n"
   ]
  },
  {
   "cell_type": "code",
   "execution_count": null,
   "metadata": {},
   "outputs": [],
   "source": []
  }
 ],
 "metadata": {
  "kernelspec": {
   "display_name": "Python 2",
   "language": "python",
   "name": "python2"
  },
  "language_info": {
   "codemirror_mode": {
    "name": "ipython",
    "version": 2
   },
   "file_extension": ".py",
   "mimetype": "text/x-python",
   "name": "python",
   "nbconvert_exporter": "python",
   "pygments_lexer": "ipython2",
   "version": "2.7.14"
  },
  "toc": {
   "base_numbering": 1,
   "nav_menu": {},
   "number_sections": false,
   "sideBar": true,
   "skip_h1_title": true,
   "title_cell": "Table of Contents",
   "title_sidebar": "Contents",
   "toc_cell": false,
   "toc_position": {
    "height": "calc(100% - 180px)",
    "left": "10px",
    "top": "150px",
    "width": "165px"
   },
   "toc_section_display": true,
   "toc_window_display": true
  }
 },
 "nbformat": 4,
 "nbformat_minor": 2
}
