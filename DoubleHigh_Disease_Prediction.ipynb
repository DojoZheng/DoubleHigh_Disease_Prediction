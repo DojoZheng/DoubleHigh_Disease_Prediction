{
 "cells": [
  {
   "cell_type": "markdown",
   "metadata": {},
   "source": [
    "# [美年健康AI大赛 — 双高疾病风险预测](https://tianchi.aliyun.com/competition/information.htm?spm=5176.100067.5678.2.3cb8427c8sY0hU&raceId=231654)"
   ]
  },
  {
   "cell_type": "markdown",
   "metadata": {},
   "source": [
    "## Content\n",
    "\n",
    "<ul>\n",
    "    <li><a href=\"#question_phase\">1. 提出问题</a></li>\n",
    "    <li><a href=\"#wrangling_phase\">2. 数据预处理</a></li>\n",
    "    <li><a href=\"#exploration_phase\">3. 数据探索</a></li>\n",
    "    <li><a href=\"#prediction_phase\">4. 预测分析</a></li>\n",
    "</ul>"
   ]
  },
  {
   "cell_type": "markdown",
   "metadata": {},
   "source": [
    "<a id=\"question_phase\"></a>\n",
    "\n",
    "---\n",
    "\n",
    "## 1. 提出问题\n",
    "\n",
    "\n",
    "通过双高人群的体检数据来预测人群的高血压和高血脂程度，以血压、血脂的具体数值为指标，设计高精度，高效，且解释性强的算法来挑战双高精准预测这一科学难题。"
   ]
  },
  {
   "cell_type": "markdown",
   "metadata": {},
   "source": [
    "<a id=\"wrangling_phase\"></a>\n",
    "\n",
    "---\n",
    "\n",
    "## 2. 数据预处理\n"
   ]
  },
  {
   "cell_type": "markdown",
   "metadata": {},
   "source": [
    "### 2.1 加载数据"
   ]
  },
  {
   "cell_type": "code",
   "execution_count": 2,
   "metadata": {},
   "outputs": [
    {
     "data": {
      "text/html": [
       "<div>\n",
       "<style scoped>\n",
       "    .dataframe tbody tr th:only-of-type {\n",
       "        vertical-align: middle;\n",
       "    }\n",
       "\n",
       "    .dataframe tbody tr th {\n",
       "        vertical-align: top;\n",
       "    }\n",
       "\n",
       "    .dataframe thead th {\n",
       "        text-align: right;\n",
       "    }\n",
       "</style>\n",
       "<table border=\"1\" class=\"dataframe\">\n",
       "  <thead>\n",
       "    <tr style=\"text-align: right;\">\n",
       "      <th></th>\n",
       "      <th>vid</th>\n",
       "      <th>table_id</th>\n",
       "      <th>field_results</th>\n",
       "    </tr>\n",
       "  </thead>\n",
       "  <tbody>\n",
       "    <tr>\n",
       "      <th>0</th>\n",
       "      <td>002d1e4859fafd9ded2a2e1e7c839b62</td>\n",
       "      <td>2403</td>\n",
       "      <td>72.9</td>\n",
       "    </tr>\n",
       "    <tr>\n",
       "      <th>1</th>\n",
       "      <td>002d1e4859fafd9ded2a2e1e7c839b62</td>\n",
       "      <td>2404</td>\n",
       "      <td>166.5</td>\n",
       "    </tr>\n",
       "    <tr>\n",
       "      <th>2</th>\n",
       "      <td>002d1e4859fafd9ded2a2e1e7c839b62</td>\n",
       "      <td>2405</td>\n",
       "      <td>26.30</td>\n",
       "    </tr>\n",
       "    <tr>\n",
       "      <th>3</th>\n",
       "      <td>002d1e4859fafd9ded2a2e1e7c839b62</td>\n",
       "      <td>2420</td>\n",
       "      <td>79</td>\n",
       "    </tr>\n",
       "    <tr>\n",
       "      <th>4</th>\n",
       "      <td>002d1e4859fafd9ded2a2e1e7c839b62</td>\n",
       "      <td>0702</td>\n",
       "      <td>无</td>\n",
       "    </tr>\n",
       "    <tr>\n",
       "      <th>5</th>\n",
       "      <td>002d1e4859fafd9ded2a2e1e7c839b62</td>\n",
       "      <td>0703</td>\n",
       "      <td>右上后牙龋坏, 部分残根</td>\n",
       "    </tr>\n",
       "    <tr>\n",
       "      <th>6</th>\n",
       "      <td>002d1e4859fafd9ded2a2e1e7c839b62</td>\n",
       "      <td>0705</td>\n",
       "      <td>牙结石</td>\n",
       "    </tr>\n",
       "    <tr>\n",
       "      <th>7</th>\n",
       "      <td>002d1e4859fafd9ded2a2e1e7c839b62</td>\n",
       "      <td>0706</td>\n",
       "      <td>未见明显异常</td>\n",
       "    </tr>\n",
       "    <tr>\n",
       "      <th>8</th>\n",
       "      <td>002d1e4859fafd9ded2a2e1e7c839b62</td>\n",
       "      <td>0707</td>\n",
       "      <td>未见明显异常</td>\n",
       "    </tr>\n",
       "    <tr>\n",
       "      <th>9</th>\n",
       "      <td>002d1e4859fafd9ded2a2e1e7c839b62</td>\n",
       "      <td>0709</td>\n",
       "      <td>龋齿:右上后牙龋坏,部分残根牙周:牙结石</td>\n",
       "    </tr>\n",
       "  </tbody>\n",
       "</table>\n",
       "</div>"
      ],
      "text/plain": [
       "                                vid table_id         field_results\n",
       "0  002d1e4859fafd9ded2a2e1e7c839b62     2403                  72.9\n",
       "1  002d1e4859fafd9ded2a2e1e7c839b62     2404                 166.5\n",
       "2  002d1e4859fafd9ded2a2e1e7c839b62     2405                 26.30\n",
       "3  002d1e4859fafd9ded2a2e1e7c839b62     2420                    79\n",
       "4  002d1e4859fafd9ded2a2e1e7c839b62     0702                     无\n",
       "5  002d1e4859fafd9ded2a2e1e7c839b62     0703          右上后牙龋坏, 部分残根\n",
       "6  002d1e4859fafd9ded2a2e1e7c839b62     0705                   牙结石\n",
       "7  002d1e4859fafd9ded2a2e1e7c839b62     0706                未见明显异常\n",
       "8  002d1e4859fafd9ded2a2e1e7c839b62     0707                未见明显异常\n",
       "9  002d1e4859fafd9ded2a2e1e7c839b62     0709  龋齿:右上后牙龋坏,部分残根牙周:牙结石"
      ]
     },
     "execution_count": 2,
     "metadata": {},
     "output_type": "execute_result"
    }
   ],
   "source": [
    "import pandas as pd\n",
    "\n",
    "# load the Round 1 Part 1 data\n",
    "data_r1p1 = pd.read_csv('meinian_round1_data_part1_20180408.txt', sep=\"$\", encoding=\"utf-8\")\n",
    "data_r1p1.head(10)\n",
    "# data_r1p1.describe();"
   ]
  },
  {
   "cell_type": "code",
   "execution_count": 34,
   "metadata": {},
   "outputs": [
    {
     "data": {
      "text/html": [
       "<div>\n",
       "<style scoped>\n",
       "    .dataframe tbody tr th:only-of-type {\n",
       "        vertical-align: middle;\n",
       "    }\n",
       "\n",
       "    .dataframe tbody tr th {\n",
       "        vertical-align: top;\n",
       "    }\n",
       "\n",
       "    .dataframe thead th {\n",
       "        text-align: right;\n",
       "    }\n",
       "</style>\n",
       "<table border=\"1\" class=\"dataframe\">\n",
       "  <thead>\n",
       "    <tr style=\"text-align: right;\">\n",
       "      <th></th>\n",
       "      <th>vid</th>\n",
       "      <th>table_id</th>\n",
       "      <th>field_results</th>\n",
       "    </tr>\n",
       "  </thead>\n",
       "  <tbody>\n",
       "    <tr>\n",
       "      <th>0</th>\n",
       "      <td>002d1e4859fafd9ded2a2e1e7c839b62</td>\n",
       "      <td>100005</td>\n",
       "      <td>12.9</td>\n",
       "    </tr>\n",
       "    <tr>\n",
       "      <th>1</th>\n",
       "      <td>002d1e4859fafd9ded2a2e1e7c839b62</td>\n",
       "      <td>100007</td>\n",
       "      <td>0.26</td>\n",
       "    </tr>\n",
       "    <tr>\n",
       "      <th>2</th>\n",
       "      <td>002d1e4859fafd9ded2a2e1e7c839b62</td>\n",
       "      <td>279006</td>\n",
       "      <td>35.0</td>\n",
       "    </tr>\n",
       "    <tr>\n",
       "      <th>3</th>\n",
       "      <td>002d1e4859fafd9ded2a2e1e7c839b62</td>\n",
       "      <td>31</td>\n",
       "      <td>4.82</td>\n",
       "    </tr>\n",
       "    <tr>\n",
       "      <th>4</th>\n",
       "      <td>002d1e4859fafd9ded2a2e1e7c839b62</td>\n",
       "      <td>312</td>\n",
       "      <td>6.3</td>\n",
       "    </tr>\n",
       "  </tbody>\n",
       "</table>\n",
       "</div>"
      ],
      "text/plain": [
       "                                vid table_id field_results\n",
       "0  002d1e4859fafd9ded2a2e1e7c839b62   100005          12.9\n",
       "1  002d1e4859fafd9ded2a2e1e7c839b62   100007          0.26\n",
       "2  002d1e4859fafd9ded2a2e1e7c839b62   279006          35.0\n",
       "3  002d1e4859fafd9ded2a2e1e7c839b62       31          4.82\n",
       "4  002d1e4859fafd9ded2a2e1e7c839b62      312           6.3"
      ]
     },
     "execution_count": 34,
     "metadata": {},
     "output_type": "execute_result"
    }
   ],
   "source": [
    "# load the Round 1 Part 2 data\n",
    "data_r1p2 = pd.read_csv('meinian_round1_data_part2_20180408.txt', sep=\"$\", encoding=\"utf-8\")\n",
    "data_r1p2.head()\n",
    "# data_r1p2.describe();"
   ]
  },
  {
   "cell_type": "code",
   "execution_count": 31,
   "metadata": {},
   "outputs": [
    {
     "data": {
      "text/html": [
       "<div>\n",
       "<style scoped>\n",
       "    .dataframe tbody tr th:only-of-type {\n",
       "        vertical-align: middle;\n",
       "    }\n",
       "\n",
       "    .dataframe tbody tr th {\n",
       "        vertical-align: top;\n",
       "    }\n",
       "\n",
       "    .dataframe thead th {\n",
       "        text-align: right;\n",
       "    }\n",
       "</style>\n",
       "<table border=\"1\" class=\"dataframe\">\n",
       "  <thead>\n",
       "    <tr style=\"text-align: right;\">\n",
       "      <th></th>\n",
       "      <th>vid</th>\n",
       "      <th>收缩压</th>\n",
       "      <th>舒张压</th>\n",
       "      <th>血清甘油三酯</th>\n",
       "      <th>血清高密度脂蛋白</th>\n",
       "      <th>血清低密度脂蛋白</th>\n",
       "    </tr>\n",
       "  </thead>\n",
       "  <tbody>\n",
       "    <tr>\n",
       "      <th>0</th>\n",
       "      <td>002d1e4859fafd9ded2a2e1e7c839b62</td>\n",
       "      <td>165</td>\n",
       "      <td>100</td>\n",
       "      <td>2.08</td>\n",
       "      <td>1.29</td>\n",
       "      <td>3.24</td>\n",
       "    </tr>\n",
       "    <tr>\n",
       "      <th>1</th>\n",
       "      <td>92dd479df5e30ab6a0a1cf85ac53efc3</td>\n",
       "      <td>141</td>\n",
       "      <td>97</td>\n",
       "      <td>2.64</td>\n",
       "      <td>1.36</td>\n",
       "      <td>4.75</td>\n",
       "    </tr>\n",
       "    <tr>\n",
       "      <th>2</th>\n",
       "      <td>6bb59d517c4c70f8f50844d24fbd0355</td>\n",
       "      <td>120</td>\n",
       "      <td>80</td>\n",
       "      <td>1.37</td>\n",
       "      <td>1.25</td>\n",
       "      <td>2.66</td>\n",
       "    </tr>\n",
       "    <tr>\n",
       "      <th>3</th>\n",
       "      <td>0ebb42adae512906f7e1135da734ea63</td>\n",
       "      <td>100</td>\n",
       "      <td>70</td>\n",
       "      <td>1.27</td>\n",
       "      <td>2.21</td>\n",
       "      <td>1.73</td>\n",
       "    </tr>\n",
       "    <tr>\n",
       "      <th>4</th>\n",
       "      <td>ebe7811e919109c42c092abbd98b4ca6</td>\n",
       "      <td>110</td>\n",
       "      <td>80</td>\n",
       "      <td>0.8</td>\n",
       "      <td>1.87</td>\n",
       "      <td>2.21</td>\n",
       "    </tr>\n",
       "  </tbody>\n",
       "</table>\n",
       "</div>"
      ],
      "text/plain": [
       "                                vid  收缩压  舒张压 血清甘油三酯  血清高密度脂蛋白  血清低密度脂蛋白\n",
       "0  002d1e4859fafd9ded2a2e1e7c839b62  165  100   2.08      1.29      3.24\n",
       "1  92dd479df5e30ab6a0a1cf85ac53efc3  141   97   2.64      1.36      4.75\n",
       "2  6bb59d517c4c70f8f50844d24fbd0355  120   80   1.37      1.25      2.66\n",
       "3  0ebb42adae512906f7e1135da734ea63  100   70   1.27      2.21      1.73\n",
       "4  ebe7811e919109c42c092abbd98b4ca6  110   80    0.8      1.87      2.21"
      ]
     },
     "execution_count": 31,
     "metadata": {},
     "output_type": "execute_result"
    }
   ],
   "source": [
    "# load the Round 1 training datasets\n",
    "data_r1_train = pd.read_csv('meinian_round1_train_20180408.csv', encoding='gb2312')\n",
    "data_r1_train.head()\n",
    "# print data_r1_train.describe();"
   ]
  },
  {
   "cell_type": "markdown",
   "metadata": {},
   "source": [
    "<a id=\"exploration_phase\"></a>\n",
    "\n",
    "---\n",
    "\n",
    "## 3. 数据探索\n"
   ]
  },
  {
   "cell_type": "markdown",
   "metadata": {},
   "source": [
    "<a id=\"prediction_phase\"></a>\n",
    "\n",
    "---\n",
    "\n",
    "## 4. 预测分析\n"
   ]
  },
  {
   "cell_type": "code",
   "execution_count": null,
   "metadata": {},
   "outputs": [],
   "source": []
  }
 ],
 "metadata": {
  "kernelspec": {
   "display_name": "Python 2",
   "language": "python",
   "name": "python2"
  },
  "language_info": {
   "codemirror_mode": {
    "name": "ipython",
    "version": 2
   },
   "file_extension": ".py",
   "mimetype": "text/x-python",
   "name": "python",
   "nbconvert_exporter": "python",
   "pygments_lexer": "ipython2",
   "version": "2.7.14"
  },
  "toc": {
   "base_numbering": 1,
   "nav_menu": {},
   "number_sections": false,
   "sideBar": true,
   "skip_h1_title": true,
   "title_cell": "Table of Contents",
   "title_sidebar": "Contents",
   "toc_cell": false,
   "toc_position": {
    "height": "calc(100% - 180px)",
    "left": "10px",
    "top": "150px",
    "width": "165px"
   },
   "toc_section_display": true,
   "toc_window_display": true
  }
 },
 "nbformat": 4,
 "nbformat_minor": 2
}
